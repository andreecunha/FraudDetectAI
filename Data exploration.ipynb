{
 "cells": [
  {
   "cell_type": "code",
   "execution_count": 2,
   "id": "7722563a",
   "metadata": {},
   "outputs": [
    {
     "data": {
      "text/plain": [
       "'1.0.2'"
      ]
     },
     "execution_count": 2,
     "metadata": {},
     "output_type": "execute_result"
    }
   ],
   "source": [
    "import pandas as pd\n",
    "import seaborn as sns\n",
    "from imblearn.over_sampling import SMOTE\n",
    "import sklearn\n",
    "from sklearn.model_selection import train_test_split\n",
    "from sklearn.preprocessing import StandardScaler\n",
    "from sklearn.neighbors import KNeighborsClassifier\n",
    "from sklearn.svm import SVC\n",
    "from sklearn.ensemble import RandomForestClassifier\n",
    "from sklearn.neural_network import MLPClassifier\n",
    "from sklearn.model_selection import GridSearchCV\n",
    "from sklearn.metrics import accuracy_score, recall_score, precision_score\n",
    "import matplotlib.pyplot as plt\n",
    "import numpy as np\n",
    "\n",
    "sklearn.__version__"
   ]
  },
  {
   "cell_type": "code",
   "execution_count": 3,
   "id": "b31040b1",
   "metadata": {},
   "outputs": [],
   "source": [
    "data = pd.read_csv(\"../creditcard.csv\")"
   ]
  },
  {
   "cell_type": "code",
   "execution_count": 4,
   "id": "f943a57b",
   "metadata": {},
   "outputs": [
    {
     "name": "stdout",
     "output_type": "stream",
     "text": [
      "(284807, 31)\n"
     ]
    },
    {
     "data": {
      "text/html": [
       "<div>\n",
       "<style scoped>\n",
       "    .dataframe tbody tr th:only-of-type {\n",
       "        vertical-align: middle;\n",
       "    }\n",
       "\n",
       "    .dataframe tbody tr th {\n",
       "        vertical-align: top;\n",
       "    }\n",
       "\n",
       "    .dataframe thead th {\n",
       "        text-align: right;\n",
       "    }\n",
       "</style>\n",
       "<table border=\"1\" class=\"dataframe\">\n",
       "  <thead>\n",
       "    <tr style=\"text-align: right;\">\n",
       "      <th></th>\n",
       "      <th>Time</th>\n",
       "      <th>V1</th>\n",
       "      <th>V2</th>\n",
       "      <th>V3</th>\n",
       "      <th>V4</th>\n",
       "      <th>V5</th>\n",
       "      <th>V6</th>\n",
       "      <th>V7</th>\n",
       "      <th>V8</th>\n",
       "      <th>V9</th>\n",
       "      <th>...</th>\n",
       "      <th>V21</th>\n",
       "      <th>V22</th>\n",
       "      <th>V23</th>\n",
       "      <th>V24</th>\n",
       "      <th>V25</th>\n",
       "      <th>V26</th>\n",
       "      <th>V27</th>\n",
       "      <th>V28</th>\n",
       "      <th>Amount</th>\n",
       "      <th>Class</th>\n",
       "    </tr>\n",
       "  </thead>\n",
       "  <tbody>\n",
       "    <tr>\n",
       "      <th>0</th>\n",
       "      <td>0.0</td>\n",
       "      <td>-1.359807</td>\n",
       "      <td>-0.072781</td>\n",
       "      <td>2.536347</td>\n",
       "      <td>1.378155</td>\n",
       "      <td>-0.338321</td>\n",
       "      <td>0.462388</td>\n",
       "      <td>0.239599</td>\n",
       "      <td>0.098698</td>\n",
       "      <td>0.363787</td>\n",
       "      <td>...</td>\n",
       "      <td>-0.018307</td>\n",
       "      <td>0.277838</td>\n",
       "      <td>-0.110474</td>\n",
       "      <td>0.066928</td>\n",
       "      <td>0.128539</td>\n",
       "      <td>-0.189115</td>\n",
       "      <td>0.133558</td>\n",
       "      <td>-0.021053</td>\n",
       "      <td>149.62</td>\n",
       "      <td>0</td>\n",
       "    </tr>\n",
       "    <tr>\n",
       "      <th>1</th>\n",
       "      <td>0.0</td>\n",
       "      <td>1.191857</td>\n",
       "      <td>0.266151</td>\n",
       "      <td>0.166480</td>\n",
       "      <td>0.448154</td>\n",
       "      <td>0.060018</td>\n",
       "      <td>-0.082361</td>\n",
       "      <td>-0.078803</td>\n",
       "      <td>0.085102</td>\n",
       "      <td>-0.255425</td>\n",
       "      <td>...</td>\n",
       "      <td>-0.225775</td>\n",
       "      <td>-0.638672</td>\n",
       "      <td>0.101288</td>\n",
       "      <td>-0.339846</td>\n",
       "      <td>0.167170</td>\n",
       "      <td>0.125895</td>\n",
       "      <td>-0.008983</td>\n",
       "      <td>0.014724</td>\n",
       "      <td>2.69</td>\n",
       "      <td>0</td>\n",
       "    </tr>\n",
       "    <tr>\n",
       "      <th>2</th>\n",
       "      <td>1.0</td>\n",
       "      <td>-1.358354</td>\n",
       "      <td>-1.340163</td>\n",
       "      <td>1.773209</td>\n",
       "      <td>0.379780</td>\n",
       "      <td>-0.503198</td>\n",
       "      <td>1.800499</td>\n",
       "      <td>0.791461</td>\n",
       "      <td>0.247676</td>\n",
       "      <td>-1.514654</td>\n",
       "      <td>...</td>\n",
       "      <td>0.247998</td>\n",
       "      <td>0.771679</td>\n",
       "      <td>0.909412</td>\n",
       "      <td>-0.689281</td>\n",
       "      <td>-0.327642</td>\n",
       "      <td>-0.139097</td>\n",
       "      <td>-0.055353</td>\n",
       "      <td>-0.059752</td>\n",
       "      <td>378.66</td>\n",
       "      <td>0</td>\n",
       "    </tr>\n",
       "    <tr>\n",
       "      <th>3</th>\n",
       "      <td>1.0</td>\n",
       "      <td>-0.966272</td>\n",
       "      <td>-0.185226</td>\n",
       "      <td>1.792993</td>\n",
       "      <td>-0.863291</td>\n",
       "      <td>-0.010309</td>\n",
       "      <td>1.247203</td>\n",
       "      <td>0.237609</td>\n",
       "      <td>0.377436</td>\n",
       "      <td>-1.387024</td>\n",
       "      <td>...</td>\n",
       "      <td>-0.108300</td>\n",
       "      <td>0.005274</td>\n",
       "      <td>-0.190321</td>\n",
       "      <td>-1.175575</td>\n",
       "      <td>0.647376</td>\n",
       "      <td>-0.221929</td>\n",
       "      <td>0.062723</td>\n",
       "      <td>0.061458</td>\n",
       "      <td>123.50</td>\n",
       "      <td>0</td>\n",
       "    </tr>\n",
       "    <tr>\n",
       "      <th>4</th>\n",
       "      <td>2.0</td>\n",
       "      <td>-1.158233</td>\n",
       "      <td>0.877737</td>\n",
       "      <td>1.548718</td>\n",
       "      <td>0.403034</td>\n",
       "      <td>-0.407193</td>\n",
       "      <td>0.095921</td>\n",
       "      <td>0.592941</td>\n",
       "      <td>-0.270533</td>\n",
       "      <td>0.817739</td>\n",
       "      <td>...</td>\n",
       "      <td>-0.009431</td>\n",
       "      <td>0.798278</td>\n",
       "      <td>-0.137458</td>\n",
       "      <td>0.141267</td>\n",
       "      <td>-0.206010</td>\n",
       "      <td>0.502292</td>\n",
       "      <td>0.219422</td>\n",
       "      <td>0.215153</td>\n",
       "      <td>69.99</td>\n",
       "      <td>0</td>\n",
       "    </tr>\n",
       "  </tbody>\n",
       "</table>\n",
       "<p>5 rows × 31 columns</p>\n",
       "</div>"
      ],
      "text/plain": [
       "   Time        V1        V2        V3        V4        V5        V6        V7  \\\n",
       "0   0.0 -1.359807 -0.072781  2.536347  1.378155 -0.338321  0.462388  0.239599   \n",
       "1   0.0  1.191857  0.266151  0.166480  0.448154  0.060018 -0.082361 -0.078803   \n",
       "2   1.0 -1.358354 -1.340163  1.773209  0.379780 -0.503198  1.800499  0.791461   \n",
       "3   1.0 -0.966272 -0.185226  1.792993 -0.863291 -0.010309  1.247203  0.237609   \n",
       "4   2.0 -1.158233  0.877737  1.548718  0.403034 -0.407193  0.095921  0.592941   \n",
       "\n",
       "         V8        V9  ...       V21       V22       V23       V24       V25  \\\n",
       "0  0.098698  0.363787  ... -0.018307  0.277838 -0.110474  0.066928  0.128539   \n",
       "1  0.085102 -0.255425  ... -0.225775 -0.638672  0.101288 -0.339846  0.167170   \n",
       "2  0.247676 -1.514654  ...  0.247998  0.771679  0.909412 -0.689281 -0.327642   \n",
       "3  0.377436 -1.387024  ... -0.108300  0.005274 -0.190321 -1.175575  0.647376   \n",
       "4 -0.270533  0.817739  ... -0.009431  0.798278 -0.137458  0.141267 -0.206010   \n",
       "\n",
       "        V26       V27       V28  Amount  Class  \n",
       "0 -0.189115  0.133558 -0.021053  149.62      0  \n",
       "1  0.125895 -0.008983  0.014724    2.69      0  \n",
       "2 -0.139097 -0.055353 -0.059752  378.66      0  \n",
       "3 -0.221929  0.062723  0.061458  123.50      0  \n",
       "4  0.502292  0.219422  0.215153   69.99      0  \n",
       "\n",
       "[5 rows x 31 columns]"
      ]
     },
     "execution_count": 4,
     "metadata": {},
     "output_type": "execute_result"
    }
   ],
   "source": [
    "shape = data.shape\n",
    "print(shape)\n",
    "\n",
    "data.head()"
   ]
  },
  {
   "cell_type": "code",
   "execution_count": 5,
   "id": "67518948",
   "metadata": {},
   "outputs": [
    {
     "data": {
      "text/html": [
       "<div>\n",
       "<style scoped>\n",
       "    .dataframe tbody tr th:only-of-type {\n",
       "        vertical-align: middle;\n",
       "    }\n",
       "\n",
       "    .dataframe tbody tr th {\n",
       "        vertical-align: top;\n",
       "    }\n",
       "\n",
       "    .dataframe thead th {\n",
       "        text-align: right;\n",
       "    }\n",
       "</style>\n",
       "<table border=\"1\" class=\"dataframe\">\n",
       "  <thead>\n",
       "    <tr style=\"text-align: right;\">\n",
       "      <th></th>\n",
       "      <th>Time</th>\n",
       "      <th>V1</th>\n",
       "      <th>V2</th>\n",
       "      <th>V3</th>\n",
       "      <th>V4</th>\n",
       "      <th>V5</th>\n",
       "      <th>V6</th>\n",
       "      <th>V7</th>\n",
       "      <th>V8</th>\n",
       "      <th>V9</th>\n",
       "      <th>...</th>\n",
       "      <th>V21</th>\n",
       "      <th>V22</th>\n",
       "      <th>V23</th>\n",
       "      <th>V24</th>\n",
       "      <th>V25</th>\n",
       "      <th>V26</th>\n",
       "      <th>V27</th>\n",
       "      <th>V28</th>\n",
       "      <th>Amount</th>\n",
       "      <th>Class</th>\n",
       "    </tr>\n",
       "  </thead>\n",
       "  <tbody>\n",
       "    <tr>\n",
       "      <th>count</th>\n",
       "      <td>284807.000000</td>\n",
       "      <td>2.848070e+05</td>\n",
       "      <td>2.848070e+05</td>\n",
       "      <td>2.848070e+05</td>\n",
       "      <td>2.848070e+05</td>\n",
       "      <td>2.848070e+05</td>\n",
       "      <td>2.848070e+05</td>\n",
       "      <td>2.848070e+05</td>\n",
       "      <td>2.848070e+05</td>\n",
       "      <td>2.848070e+05</td>\n",
       "      <td>...</td>\n",
       "      <td>2.848070e+05</td>\n",
       "      <td>2.848070e+05</td>\n",
       "      <td>2.848070e+05</td>\n",
       "      <td>2.848070e+05</td>\n",
       "      <td>2.848070e+05</td>\n",
       "      <td>2.848070e+05</td>\n",
       "      <td>2.848070e+05</td>\n",
       "      <td>2.848070e+05</td>\n",
       "      <td>284807.000000</td>\n",
       "      <td>284807.000000</td>\n",
       "    </tr>\n",
       "    <tr>\n",
       "      <th>mean</th>\n",
       "      <td>94813.859575</td>\n",
       "      <td>3.918649e-15</td>\n",
       "      <td>5.682686e-16</td>\n",
       "      <td>-8.761736e-15</td>\n",
       "      <td>2.811118e-15</td>\n",
       "      <td>-1.552103e-15</td>\n",
       "      <td>2.040130e-15</td>\n",
       "      <td>-1.698953e-15</td>\n",
       "      <td>-1.893285e-16</td>\n",
       "      <td>-3.147640e-15</td>\n",
       "      <td>...</td>\n",
       "      <td>1.473120e-16</td>\n",
       "      <td>8.042109e-16</td>\n",
       "      <td>5.282512e-16</td>\n",
       "      <td>4.456271e-15</td>\n",
       "      <td>1.426896e-15</td>\n",
       "      <td>1.701640e-15</td>\n",
       "      <td>-3.662252e-16</td>\n",
       "      <td>-1.217809e-16</td>\n",
       "      <td>88.349619</td>\n",
       "      <td>0.001727</td>\n",
       "    </tr>\n",
       "    <tr>\n",
       "      <th>std</th>\n",
       "      <td>47488.145955</td>\n",
       "      <td>1.958696e+00</td>\n",
       "      <td>1.651309e+00</td>\n",
       "      <td>1.516255e+00</td>\n",
       "      <td>1.415869e+00</td>\n",
       "      <td>1.380247e+00</td>\n",
       "      <td>1.332271e+00</td>\n",
       "      <td>1.237094e+00</td>\n",
       "      <td>1.194353e+00</td>\n",
       "      <td>1.098632e+00</td>\n",
       "      <td>...</td>\n",
       "      <td>7.345240e-01</td>\n",
       "      <td>7.257016e-01</td>\n",
       "      <td>6.244603e-01</td>\n",
       "      <td>6.056471e-01</td>\n",
       "      <td>5.212781e-01</td>\n",
       "      <td>4.822270e-01</td>\n",
       "      <td>4.036325e-01</td>\n",
       "      <td>3.300833e-01</td>\n",
       "      <td>250.120109</td>\n",
       "      <td>0.041527</td>\n",
       "    </tr>\n",
       "    <tr>\n",
       "      <th>min</th>\n",
       "      <td>0.000000</td>\n",
       "      <td>-5.640751e+01</td>\n",
       "      <td>-7.271573e+01</td>\n",
       "      <td>-4.832559e+01</td>\n",
       "      <td>-5.683171e+00</td>\n",
       "      <td>-1.137433e+02</td>\n",
       "      <td>-2.616051e+01</td>\n",
       "      <td>-4.355724e+01</td>\n",
       "      <td>-7.321672e+01</td>\n",
       "      <td>-1.343407e+01</td>\n",
       "      <td>...</td>\n",
       "      <td>-3.483038e+01</td>\n",
       "      <td>-1.093314e+01</td>\n",
       "      <td>-4.480774e+01</td>\n",
       "      <td>-2.836627e+00</td>\n",
       "      <td>-1.029540e+01</td>\n",
       "      <td>-2.604551e+00</td>\n",
       "      <td>-2.256568e+01</td>\n",
       "      <td>-1.543008e+01</td>\n",
       "      <td>0.000000</td>\n",
       "      <td>0.000000</td>\n",
       "    </tr>\n",
       "    <tr>\n",
       "      <th>25%</th>\n",
       "      <td>54201.500000</td>\n",
       "      <td>-9.203734e-01</td>\n",
       "      <td>-5.985499e-01</td>\n",
       "      <td>-8.903648e-01</td>\n",
       "      <td>-8.486401e-01</td>\n",
       "      <td>-6.915971e-01</td>\n",
       "      <td>-7.682956e-01</td>\n",
       "      <td>-5.540759e-01</td>\n",
       "      <td>-2.086297e-01</td>\n",
       "      <td>-6.430976e-01</td>\n",
       "      <td>...</td>\n",
       "      <td>-2.283949e-01</td>\n",
       "      <td>-5.423504e-01</td>\n",
       "      <td>-1.618463e-01</td>\n",
       "      <td>-3.545861e-01</td>\n",
       "      <td>-3.171451e-01</td>\n",
       "      <td>-3.269839e-01</td>\n",
       "      <td>-7.083953e-02</td>\n",
       "      <td>-5.295979e-02</td>\n",
       "      <td>5.600000</td>\n",
       "      <td>0.000000</td>\n",
       "    </tr>\n",
       "    <tr>\n",
       "      <th>50%</th>\n",
       "      <td>84692.000000</td>\n",
       "      <td>1.810880e-02</td>\n",
       "      <td>6.548556e-02</td>\n",
       "      <td>1.798463e-01</td>\n",
       "      <td>-1.984653e-02</td>\n",
       "      <td>-5.433583e-02</td>\n",
       "      <td>-2.741871e-01</td>\n",
       "      <td>4.010308e-02</td>\n",
       "      <td>2.235804e-02</td>\n",
       "      <td>-5.142873e-02</td>\n",
       "      <td>...</td>\n",
       "      <td>-2.945017e-02</td>\n",
       "      <td>6.781943e-03</td>\n",
       "      <td>-1.119293e-02</td>\n",
       "      <td>4.097606e-02</td>\n",
       "      <td>1.659350e-02</td>\n",
       "      <td>-5.213911e-02</td>\n",
       "      <td>1.342146e-03</td>\n",
       "      <td>1.124383e-02</td>\n",
       "      <td>22.000000</td>\n",
       "      <td>0.000000</td>\n",
       "    </tr>\n",
       "    <tr>\n",
       "      <th>75%</th>\n",
       "      <td>139320.500000</td>\n",
       "      <td>1.315642e+00</td>\n",
       "      <td>8.037239e-01</td>\n",
       "      <td>1.027196e+00</td>\n",
       "      <td>7.433413e-01</td>\n",
       "      <td>6.119264e-01</td>\n",
       "      <td>3.985649e-01</td>\n",
       "      <td>5.704361e-01</td>\n",
       "      <td>3.273459e-01</td>\n",
       "      <td>5.971390e-01</td>\n",
       "      <td>...</td>\n",
       "      <td>1.863772e-01</td>\n",
       "      <td>5.285536e-01</td>\n",
       "      <td>1.476421e-01</td>\n",
       "      <td>4.395266e-01</td>\n",
       "      <td>3.507156e-01</td>\n",
       "      <td>2.409522e-01</td>\n",
       "      <td>9.104512e-02</td>\n",
       "      <td>7.827995e-02</td>\n",
       "      <td>77.165000</td>\n",
       "      <td>0.000000</td>\n",
       "    </tr>\n",
       "    <tr>\n",
       "      <th>max</th>\n",
       "      <td>172792.000000</td>\n",
       "      <td>2.454930e+00</td>\n",
       "      <td>2.205773e+01</td>\n",
       "      <td>9.382558e+00</td>\n",
       "      <td>1.687534e+01</td>\n",
       "      <td>3.480167e+01</td>\n",
       "      <td>7.330163e+01</td>\n",
       "      <td>1.205895e+02</td>\n",
       "      <td>2.000721e+01</td>\n",
       "      <td>1.559499e+01</td>\n",
       "      <td>...</td>\n",
       "      <td>2.720284e+01</td>\n",
       "      <td>1.050309e+01</td>\n",
       "      <td>2.252841e+01</td>\n",
       "      <td>4.584549e+00</td>\n",
       "      <td>7.519589e+00</td>\n",
       "      <td>3.517346e+00</td>\n",
       "      <td>3.161220e+01</td>\n",
       "      <td>3.384781e+01</td>\n",
       "      <td>25691.160000</td>\n",
       "      <td>1.000000</td>\n",
       "    </tr>\n",
       "  </tbody>\n",
       "</table>\n",
       "<p>8 rows × 31 columns</p>\n",
       "</div>"
      ],
      "text/plain": [
       "                Time            V1            V2            V3            V4  \\\n",
       "count  284807.000000  2.848070e+05  2.848070e+05  2.848070e+05  2.848070e+05   \n",
       "mean    94813.859575  3.918649e-15  5.682686e-16 -8.761736e-15  2.811118e-15   \n",
       "std     47488.145955  1.958696e+00  1.651309e+00  1.516255e+00  1.415869e+00   \n",
       "min         0.000000 -5.640751e+01 -7.271573e+01 -4.832559e+01 -5.683171e+00   \n",
       "25%     54201.500000 -9.203734e-01 -5.985499e-01 -8.903648e-01 -8.486401e-01   \n",
       "50%     84692.000000  1.810880e-02  6.548556e-02  1.798463e-01 -1.984653e-02   \n",
       "75%    139320.500000  1.315642e+00  8.037239e-01  1.027196e+00  7.433413e-01   \n",
       "max    172792.000000  2.454930e+00  2.205773e+01  9.382558e+00  1.687534e+01   \n",
       "\n",
       "                 V5            V6            V7            V8            V9  \\\n",
       "count  2.848070e+05  2.848070e+05  2.848070e+05  2.848070e+05  2.848070e+05   \n",
       "mean  -1.552103e-15  2.040130e-15 -1.698953e-15 -1.893285e-16 -3.147640e-15   \n",
       "std    1.380247e+00  1.332271e+00  1.237094e+00  1.194353e+00  1.098632e+00   \n",
       "min   -1.137433e+02 -2.616051e+01 -4.355724e+01 -7.321672e+01 -1.343407e+01   \n",
       "25%   -6.915971e-01 -7.682956e-01 -5.540759e-01 -2.086297e-01 -6.430976e-01   \n",
       "50%   -5.433583e-02 -2.741871e-01  4.010308e-02  2.235804e-02 -5.142873e-02   \n",
       "75%    6.119264e-01  3.985649e-01  5.704361e-01  3.273459e-01  5.971390e-01   \n",
       "max    3.480167e+01  7.330163e+01  1.205895e+02  2.000721e+01  1.559499e+01   \n",
       "\n",
       "       ...           V21           V22           V23           V24  \\\n",
       "count  ...  2.848070e+05  2.848070e+05  2.848070e+05  2.848070e+05   \n",
       "mean   ...  1.473120e-16  8.042109e-16  5.282512e-16  4.456271e-15   \n",
       "std    ...  7.345240e-01  7.257016e-01  6.244603e-01  6.056471e-01   \n",
       "min    ... -3.483038e+01 -1.093314e+01 -4.480774e+01 -2.836627e+00   \n",
       "25%    ... -2.283949e-01 -5.423504e-01 -1.618463e-01 -3.545861e-01   \n",
       "50%    ... -2.945017e-02  6.781943e-03 -1.119293e-02  4.097606e-02   \n",
       "75%    ...  1.863772e-01  5.285536e-01  1.476421e-01  4.395266e-01   \n",
       "max    ...  2.720284e+01  1.050309e+01  2.252841e+01  4.584549e+00   \n",
       "\n",
       "                V25           V26           V27           V28         Amount  \\\n",
       "count  2.848070e+05  2.848070e+05  2.848070e+05  2.848070e+05  284807.000000   \n",
       "mean   1.426896e-15  1.701640e-15 -3.662252e-16 -1.217809e-16      88.349619   \n",
       "std    5.212781e-01  4.822270e-01  4.036325e-01  3.300833e-01     250.120109   \n",
       "min   -1.029540e+01 -2.604551e+00 -2.256568e+01 -1.543008e+01       0.000000   \n",
       "25%   -3.171451e-01 -3.269839e-01 -7.083953e-02 -5.295979e-02       5.600000   \n",
       "50%    1.659350e-02 -5.213911e-02  1.342146e-03  1.124383e-02      22.000000   \n",
       "75%    3.507156e-01  2.409522e-01  9.104512e-02  7.827995e-02      77.165000   \n",
       "max    7.519589e+00  3.517346e+00  3.161220e+01  3.384781e+01   25691.160000   \n",
       "\n",
       "               Class  \n",
       "count  284807.000000  \n",
       "mean        0.001727  \n",
       "std         0.041527  \n",
       "min         0.000000  \n",
       "25%         0.000000  \n",
       "50%         0.000000  \n",
       "75%         0.000000  \n",
       "max         1.000000  \n",
       "\n",
       "[8 rows x 31 columns]"
      ]
     },
     "execution_count": 5,
     "metadata": {},
     "output_type": "execute_result"
    }
   ],
   "source": [
    "data.describe()"
   ]
  },
  {
   "cell_type": "code",
   "execution_count": 6,
   "id": "db8f5ae9",
   "metadata": {},
   "outputs": [
    {
     "name": "stdout",
     "output_type": "stream",
     "text": [
      "492\n",
      "0.001727485630620034\n"
     ]
    }
   ],
   "source": [
    "class_col = data[\"Class\"]\n",
    "X = data.drop([\"Class\"], axis=1)\n",
    "\n",
    "\n",
    "print(sum(class_col))\n",
    "print(sum(class_col)/len(class_col))"
   ]
  },
  {
   "cell_type": "code",
   "execution_count": 7,
   "id": "52704e93",
   "metadata": {},
   "outputs": [
    {
     "data": {
      "text/plain": [
       "<AxesSubplot:ylabel='Number of transactions'>"
      ]
     },
     "execution_count": 7,
     "metadata": {},
     "output_type": "execute_result"
    },
    {
     "data": {
      "image/png": "[encoded data removed]",
      "text/plain": [
       "<Figure size 360x360 with 1 Axes>"
      ]
     },
     "metadata": {},
     "output_type": "display_data"
    }
   ],
   "source": [
    "data['Class'].value_counts().plot(kind='pie', xlabel=\"Fraud\", ylabel=\"Number of transactions\", legend=True, figsize=(5,5))"
   ]
  },
  {
   "cell_type": "code",
   "execution_count": 8,
   "id": "ebb24091",
   "metadata": {},
   "outputs": [],
   "source": [
    "smote = SMOTE(sampling_strategy=1)\n",
    "X_sampled, class_col_sampled = smote.fit_resample(X, class_col)"
   ]
  },
  {
   "cell_type": "code",
   "execution_count": 9,
   "id": "038e432f",
   "metadata": {},
   "outputs": [
    {
     "data": {
      "text/plain": [
       "<AxesSubplot:ylabel='Number of transactions'>"
      ]
     },
     "execution_count": 9,
     "metadata": {},
     "output_type": "execute_result"
    },
    {
     "data": {
      "image/png": "[encoded data removed]",
      "text/plain": [
       "<Figure size 360x360 with 1 Axes>"
      ]
     },
     "metadata": {},
     "output_type": "display_data"
    }
   ],
   "source": [
    "class_col_sampled.value_counts().plot(kind='pie', xlabel=\"Fraud\", ylabel=\"Number of transactions\", legend=True, figsize=(5,5))"
   ]
  },
  {
   "cell_type": "markdown",
   "id": "12a11dbc",
   "metadata": {},
   "source": [
    "## EXPERIMENTS"
   ]
  },
  {
   "cell_type": "code",
   "execution_count": 7,
   "id": "57f8842b",
   "metadata": {},
   "outputs": [],
   "source": [
    "# data scaling\n",
    "\n",
    "scaler = StandardScaler()\n",
    "\n",
    "scaler.fit(X)\n",
    "X = scaler.transform(X)"
   ]
  },
  {
   "cell_type": "code",
   "execution_count": 8,
   "id": "f7d4abc2",
   "metadata": {},
   "outputs": [],
   "source": [
    "#train - test split\n",
    "\n",
    "X_train, X_test, y_train, y_test = train_test_split(X, class_col, test_size=0.2, random_state=42)"
   ]
  },
  {
   "cell_type": "code",
   "execution_count": 9,
   "id": "4b6fce24",
   "metadata": {},
   "outputs": [],
   "source": [
    "# Functions to get the best possible hyperparameters for the methods\n",
    "\n",
    "def get_best_RF(x_train, y_train):\n",
    "    \n",
    "    RandomForest = RandomForestClassifier()\n",
    "\n",
    "    search_space = {\"criterion\": [\"gini\",\"entropy\"],\n",
    "                    \"max_depth\" : [10, 20, None]}\n",
    "\n",
    "    Best_RandomForest = GridSearchCV(RandomForest, search_space)\n",
    "    \n",
    "    Best_RandomForest.fit(x_train, y_train) \n",
    "    \n",
    "    return Best_RandomForest\n",
    "\n",
    "\n",
    "def get_best_KNN(x_train, y_train):\n",
    "    \n",
    "    KNN = KNeighborsClassifier()\n",
    "    \n",
    "    search_space = {\"n_neighbors\": [3, 5, 7, 11],\n",
    "                   \"weights\": ['uniform', 'distance']}\n",
    "    \n",
    "    Best_KNN = GridSearchCV(KNN, search_space)\n",
    "    \n",
    "    Best_KNN.fit(x_train, y_train)\n",
    "    \n",
    "    return KNN\n",
    "\n",
    "\n",
    "def get_best_NN(x_train, y_train):\n",
    "    \n",
    "    NN = MLPClassifier()\n",
    "\n",
    "    search_space = { \"max_iter\": [50, 100],\n",
    "                     \"hidden_layer_sizes\" : [(50,), (100,)],\n",
    "                    }\n",
    "\n",
    "    best_NN = GridSearchCV(NN, search_space)\n",
    "\n",
    "    best_NN.fit(x_train, y_train) \n",
    "    \n",
    "    return best_NN\n",
    "\n",
    "\n",
    "def get_best_SVM(x_train, y_train):\n",
    "    \n",
    "    SVM = SVC()\n",
    "\n",
    "    search_space = { \"C\": [1,2],\n",
    "                    \"kernel\" : [\"linear\", \"rbf\"]}\n",
    "\n",
    "    best_SVM = GridSearchCV(svm, search_space)\n",
    "\n",
    "    best_SVM.fit(x_train, y_train) \n",
    "    \n",
    "    return best_SVM"
   ]
  },
  {
   "cell_type": "markdown",
   "id": "150d9d26",
   "metadata": {},
   "source": [
    "Experiment 1 - SMOTE and best fraud %"
   ]
  },
  {
   "cell_type": "code",
   "execution_count": 10,
   "id": "6eefc3f9",
   "metadata": {},
   "outputs": [],
   "source": [
    "smote50 = SMOTE(sampling_strategy=1)\n",
    "X_train_50, Y_sampled_50 = smote50.fit_resample(X_train, y_train)\n",
    "\n",
    "smote25 = SMOTE(sampling_strategy=0.5)\n",
    "X_train_25, Y_sampled_25 = smote25.fit_resample(X_train, y_train)"
   ]
  },
  {
   "cell_type": "code",
   "execution_count": 11,
   "id": "cbcb734e",
   "metadata": {},
   "outputs": [
    {
     "name": "stdout",
     "output_type": "stream",
     "text": [
      "Getting RF...\n"
     ]
    }
   ],
   "source": [
    "# GET METRICS\n",
    "\n",
    "# Best RF\n",
    "print(\"Getting RF...\")\n",
    "RF_original = get_best_RF(X_train, y_train)\n",
    "RF_50 = get_best_RF(X_train_50, Y_sampled_50)\n",
    "RF_25 = get_best_RF(X_train_25, Y_sampled_25)"
   ]
  },
  {
   "cell_type": "code",
   "execution_count": 28,
   "id": "0385827e",
   "metadata": {
    "scrolled": true
   },
   "outputs": [
    {
     "name": "stdout",
     "output_type": "stream",
     "text": [
      "Getting KNN...\n",
      "50\n",
      "25\n"
     ]
    }
   ],
   "source": [
    "# Best KNN\n",
    "print(\"Getting KNN...\")\n",
    "KNN_original = get_best_KNN(X_train, y_train)\n",
    "KNN_50 = get_best_KNN(X_train_50, Y_sampled_50)\n",
    "KNN_25 = get_best_KNN(X_train_25, Y_sampled_25)"
   ]
  },
  {
   "cell_type": "code",
   "execution_count": 12,
   "id": "a18eb1cd",
   "metadata": {},
   "outputs": [
    {
     "name": "stdout",
     "output_type": "stream",
     "text": [
      "Getting NN...\n",
      "50\n",
      "25\n"
     ]
    }
   ],
   "source": [
    "# Best NN\n",
    "print(\"Getting NN...\")\n",
    "NN_original = get_best_NN(X_train, y_train)\n",
    "NN_50 = get_best_NN(X_train_50, Y_sampled_50)\n",
    "NN_25 = get_best_NN(X_train_25, Y_sampled_25)"
   ]
  },
  {
   "cell_type": "code",
   "execution_count": 31,
   "id": "16a44fb7",
   "metadata": {},
   "outputs": [
    {
     "name": "stdout",
     "output_type": "stream",
     "text": [
      "Getting SVM...\n"
     ]
    }
   ],
   "source": [
    "# Best SVM\n",
    "print(\"Getting SVM...\")\n",
    "SVM_original = get_best_SVM(X_train, y_train)\n",
    "SVM_50 = get_best_SVM(X_train_50, Y_sampled_50)\n",
    "SVM_25 = get_best_SVM(X_train_25, Y_sampled_25)"
   ]
  },
  {
   "cell_type": "code",
   "execution_count": 33,
   "id": "addd803f",
   "metadata": {},
   "outputs": [],
   "source": [
    "# Results\n",
    "\n",
    "#RF\n",
    "pred_RF_original = RF_original.predict(X_test)\n",
    "pred_RF_50 = RF_50.predict(X_test)\n",
    "pred_RF_25 = RF_25.predict(X_test)"
   ]
  },
  {
   "cell_type": "code",
   "execution_count": 42,
   "id": "7b0a8792",
   "metadata": {},
   "outputs": [
    {
     "name": "stdout",
     "output_type": "stream",
     "text": [
      "50\n",
      "25\n"
     ]
    }
   ],
   "source": [
    "#KNN\n",
    "pred_KNN_original = KNN_original.predict(X_test)\n",
    "pred_KNN_50 = KNN_50.predict(X_test)\n",
    "pred_KNN_25 = KNN_25.predict(X_test)"
   ]
  },
  {
   "cell_type": "code",
   "execution_count": 35,
   "id": "f1a5a135",
   "metadata": {},
   "outputs": [],
   "source": [
    "#NN\n",
    "pred_NN_original = NN_original.predict(X_test)\n",
    "pred_NN_50 = NN_50.predict(X_test)\n",
    "pred_NN_25 = NN_25.predict(X_test)"
   ]
  },
  {
   "cell_type": "code",
   "execution_count": 43,
   "id": "ecfaf880",
   "metadata": {},
   "outputs": [
    {
     "name": "stdout",
     "output_type": "stream",
     "text": [
      "ORIGINAL\n",
      "50\n",
      "25\n"
     ]
    }
   ],
   "source": [
    "#SVM\n",
    "print(\"ORIGINAL\")\n",
    "pred_SVM_original = SVM_original.predict(X_test)\n",
    "pred_SVM_50 = SVM_50.predict(X_test)\n",
    "pred_SVM_25 = SVM_25.predict(X_test)"
   ]
  },
  {
   "cell_type": "code",
   "execution_count": 40,
   "id": "f04c0166",
   "metadata": {},
   "outputs": [
    {
     "name": "stdout",
     "output_type": "stream",
     "text": [
      "RF\n",
      "Original: Acc = 0.9995962220427653, Recall=0.7857142857142857, Precision=0.9746835443037974\n",
      "Sampled_50: Acc = 0.9995962220427653, Recall=0.8469387755102041, Precision=0.9120879120879121\n",
      "Sampled_25: Acc = 0.9995786664794073, Recall=0.8367346938775511, Precision=0.9111111111111111\n"
     ]
    }
   ],
   "source": [
    "# Metrics\n",
    "\n",
    "print(f\"RF\\nOriginal: Acc = {accuracy_score(y_test, pred_RF_original)}, Recall={recall_score(y_test, pred_RF_original)}, Precision={precision_score(y_test, pred_RF_original)}\")\n",
    "print(f\"Sampled_50: Acc = {accuracy_score(y_test, pred_RF_50)}, Recall={recall_score(y_test, pred_RF_50)}, Precision={precision_score(y_test, pred_RF_50)}\")\n",
    "print(f\"Sampled_25: Acc = {accuracy_score(y_test, pred_RF_25)}, Recall={recall_score(y_test, pred_RF_25)}, Precision={precision_score(y_test, pred_RF_25)}\")"
   ]
  },
  {
   "cell_type": "code",
   "execution_count": 45,
   "id": "6ba2e2d4",
   "metadata": {},
   "outputs": [
    {
     "name": "stdout",
     "output_type": "stream",
     "text": [
      "\n",
      "\n",
      "KNN\n",
      "Original: Acc = 0.9995259997893332, Recall=0.7755102040816326, Precision=0.9382716049382716\n",
      "Sampled_50: Acc = 0.9981917769741231, Recall=0.8673469387755102, Precision=0.4857142857142857\n",
      "Sampled_25: Acc = 0.9982093325374811, Recall=0.8673469387755102, Precision=0.4885057471264368\n"
     ]
    }
   ],
   "source": [
    "print(f\"\\n\\nKNN\\nOriginal: Acc = {accuracy_score(y_test, pred_KNN_original)}, Recall={recall_score(y_test, pred_KNN_original)}, Precision={precision_score(y_test, pred_KNN_original)}\")\n",
    "print(f\"Sampled_50: Acc = {accuracy_score(y_test, pred_KNN_50)}, Recall={recall_score(y_test, pred_KNN_50)}, Precision={precision_score(y_test, pred_KNN_50)}\")\n",
    "print(f\"Sampled_25: Acc = {accuracy_score(y_test, pred_KNN_25)}, Recall={recall_score(y_test, pred_KNN_25)}, Precision={precision_score(y_test, pred_KNN_25)}\")"
   ]
  },
  {
   "cell_type": "code",
   "execution_count": 41,
   "id": "6eea393a",
   "metadata": {},
   "outputs": [
    {
     "name": "stdout",
     "output_type": "stream",
     "text": [
      "\n",
      "\n",
      "NN\n",
      "Original: Acc = 0.999403110845827, Recall=0.7346938775510204, Precision=0.9\n",
      "Sampled_50: Acc = 0.9991924440855307, Recall=0.8163265306122449, Precision=0.7407407407407407\n",
      "Sampled_25: Acc = 0.9992626663389628, Recall=0.8061224489795918, Precision=0.7745098039215687\n"
     ]
    }
   ],
   "source": [
    "print(f\"\\n\\nNN\\nOriginal: Acc = {accuracy_score(y_test, pred_NN_original)}, Recall={recall_score(y_test, pred_NN_original)}, Precision={precision_score(y_test, pred_NN_original)}\")\n",
    "print(f\"Sampled_50: Acc = {accuracy_score(y_test, pred_NN_50)}, Recall={recall_score(y_test, pred_NN_50)}, Precision={precision_score(y_test, pred_NN_50)}\")\n",
    "print(f\"Sampled_25: Acc = {accuracy_score(y_test, pred_NN_25)}, Recall={recall_score(y_test, pred_NN_25)}, Precision={precision_score(y_test, pred_NN_25)}\")"
   ]
  },
  {
   "cell_type": "code",
   "execution_count": 46,
   "id": "476ddd77",
   "metadata": {},
   "outputs": [
    {
     "name": "stdout",
     "output_type": "stream",
     "text": [
      "\n",
      "\n",
      "SVM\n",
      "Original: Acc = 0.9993153330290369, Recall=0.6224489795918368, Precision=0.9682539682539683\n",
      "Sampled_50: Acc = 0.9840595484709105, Recall=0.9081632653061225, Precision=0.09008097165991903\n",
      "Sampled_25: Acc = 0.9976475545100242, Recall=0.8877551020408163, Precision=0.4142857142857143\n"
     ]
    }
   ],
   "source": [
    "print(f\"\\n\\nSVM\\nOriginal: Acc = {accuracy_score(y_test, pred_SVM_original)}, Recall={recall_score(y_test, pred_SVM_original)}, Precision={precision_score(y_test, pred_SVM_original)}\")\n",
    "print(f\"Sampled_50: Acc = {accuracy_score(y_test, pred_SVM_50)}, Recall={recall_score(y_test, pred_SVM_50)}, Precision={precision_score(y_test, pred_SVM_50)}\")\n",
    "print(f\"Sampled_25: Acc = {accuracy_score(y_test, pred_SVM_25)}, Recall={recall_score(y_test, pred_SVM_25)}, Precision={precision_score(y_test, pred_SVM_25)}\")"
   ]
  },
  {
   "cell_type": "code",
   "execution_count": 47,
   "id": "269c2674",
   "metadata": {},
   "outputs": [],
   "source": [
    "#Graphs\n",
    "\n",
    "\n",
    "metrics_RF_o = [0.9995962220427653, 0.7857142857142857, 0.9746835443037974]\n",
    "metrics_RF_50 = [0.9995962220427653, 0.8469387755102041, 0.9120879120879121]\n",
    "metrics_RF_25 = [0.9995786664794073, 0.8367346938775511, 0.9111111111111111]\n",
    "\n",
    "metrics_KNN_o = [0.9995259997893332, 0.7755102040816326, 0.9382716049382716]\n",
    "metrics_KNN_50 = [0.9981917769741231, 0.8673469387755102, 0.4857142857142857]\n",
    "metrics_KNN_25 = [0.9982093325374811, 0.8673469387755102, 0.4885057471264368]\n",
    "\n",
    "metrics_NN_o = [0.999403110845827, 0.7346938775510204, 0.9]\n",
    "metrics_NN_50 = [0.9991924440855307, 0.8163265306122449, 0.7407407407407407]\n",
    "metrics_NN_25 = [0.9992626663389628, 0.8061224489795918, 0.7745098039215687]\n",
    "\n",
    "metrics_SVM_o = [0.9993153330290369, 0.6224489795918368, 0.9682539682539683]\n",
    "metrics_SVM_50 = [0.9840595484709105, 0.9081632653061225, 0.09008097165991903]\n",
    "metrics_SVM_25 = [0.9976475545100242, 0.8877551020408163, 0.4142857142857143]\n"
   ]
  },
  {
   "cell_type": "code",
   "execution_count": 13,
   "id": "1a66db4b",
   "metadata": {},
   "outputs": [],
   "source": [
    "feat_imp = RF_50.feature_importances_"
   ]
  },
  {
   "cell_type": "code",
   "execution_count": 2,
   "id": "2392f7c6",
   "metadata": {},
   "outputs": [],
   "source": [
    "ind_10 = np.argpartition(feat_imp, -10)[-10:]\n",
    "print(ind_10)\n",
    "\n",
    "X = X[:, ind_10]"
   ]
  },
  {
   "cell_type": "code",
   "execution_count": null,
   "id": "79a67d75",
   "metadata": {},
   "outputs": [],
   "source": []
  }
 ],
 "metadata": {
  "kernelspec": {
   "display_name": "Python 3 (ipykernel)",
   "language": "python",
   "name": "python3"
  },
  "language_info": {
   "codemirror_mode": {
    "name": "ipython",
    "version": 3
   },
   "file_extension": ".py",
   "mimetype": "text/x-python",
   "name": "python",
   "nbconvert_exporter": "python",
   "pygments_lexer": "ipython3",
   "version": "3.9.12"
  }
 },
 "nbformat": 4,
 "nbformat_minor": 5
}
